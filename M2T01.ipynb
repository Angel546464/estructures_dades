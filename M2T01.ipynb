{
 "cells": [
  {
   "cell_type": "markdown",
   "id": "ea7fb387",
   "metadata": {},
   "source": [
    "# EXERCICI1  \n",
    "Crea una llista que agrupi els mesos de l’any en trimestres (1T: gener, febrer i març; 2T: abril, maig, juny...), és a dir, una llista amb 4 llistes dins."
   ]
  },
  {
   "cell_type": "code",
   "execution_count": 78,
   "id": "9d585df9",
   "metadata": {},
   "outputs": [
    {
     "name": "stdout",
     "output_type": "stream",
     "text": [
      "[['gener', 'febrer', 'març'], ['abril', 'maig', 'juny'], ['juliol', 'agost', 'setembre'], ['octubre', 'novembre', 'desembre']]\n"
     ]
    }
   ],
   "source": [
    "T1 = [\"gener\", \"febrer\", \"març\"]\n",
    "T2 = [\"abril\", \"maig\", \"juny\"]\n",
    "T3 = [\"juliol\", \"agost\", \"setembre\"]\n",
    "T4 = [\"octubre\", \"novembre\", \"desembre\"]\n",
    "mesos = [T1, T2, T3, T4]\n",
    "print (mesos)"
   ]
  },
  {
   "cell_type": "markdown",
   "id": "ef9444cb",
   "metadata": {},
   "source": [
    "# EXERCICI2  \n",
    "Crea un codi que et permeti accedir a:    \n",
    "\n",
    "- El segon mes del primer trimestre\n",
    "- Els mesos del primer trimestre\n",
    "- Setembre i octubre"
   ]
  },
  {
   "cell_type": "code",
   "execution_count": 96,
   "id": "3f944c34",
   "metadata": {},
   "outputs": [
    {
     "name": "stdout",
     "output_type": "stream",
     "text": [
      "El segon mes del primer trimestre es: febrer\n",
      "Els mesos del primer trimestre son: ['gener', 'febrer', 'març']\n",
      "Els mesos de setembre i octubre son: setembre y octubre\n"
     ]
    }
   ],
   "source": [
    "segon_mes = T1[1] \n",
    "primer_trimestre = T1\n",
    "sept_oct = T3[2:] + T4[:1]\n",
    "\n",
    "print(f\"El segon mes del primer trimestre es: {mesos[0][1]}\")\n",
    "\n",
    "print(f\"Els mesos del primer trimestre son: {mesos[0]}\")\n",
    "    \n",
    "print(f\"Els mesos de setembre i octubre son: {mesos [2] [2]} y {mesos [3] [0]}\")"
   ]
  },
  {
   "cell_type": "markdown",
   "id": "8014ed9e",
   "metadata": {},
   "source": [
    "# EXERCICI 3\n",
    "Crea una llista amb nombres desordenats i respon a les següents preguntes:\n",
    "\n",
    "- Quants números hi ha?\n",
    "- Quantes vegades apareix el número 3.\n",
    "- Quantes vegades apareixen els nombres 3 i 4?\n",
    "- Quin és el número més gran?\n",
    "- Quins són els 3 números més petits?\n",
    "- Quin és el rang d’aquesta llista?\n"
   ]
  },
  {
   "cell_type": "code",
   "execution_count": 97,
   "id": "6018af28",
   "metadata": {},
   "outputs": [
    {
     "name": "stdout",
     "output_type": "stream",
     "text": [
      "La llista de nombres aleatoris es: [3, 7, 1, 4, 7, 7, 6, 5, 4, 7, 7, 3, 6, 7, 1, 2, 9, 5, 2, 7, 6, 10, 2, 0, 5]\n",
      "La quantitat de nombres a la llista es: 25\n",
      "El nombre 3 apareix 2 vegades a la llista.\n",
      "El total de vegades que apareixen els nombres 3 i 4 a la llista es: 4\n",
      "El nombre mes alt de la llista es: 10\n",
      "Els tres nombres mes petits de la llista son:[0, 1, 1]\n",
      "El rang d'aquesta llista es: 10\n"
     ]
    }
   ],
   "source": [
    "import random\n",
    "\n",
    "nombres = [random.randint(0, 10) for i in range(25) ]\n",
    "\n",
    "nombre_tres = nombres.count(3)\n",
    "\n",
    "nombre_quatre = nombres.count(4)\n",
    "\n",
    "print(f\"La llista de nombres aleatoris es: {nombres}\")\n",
    "print(f\"La quantitat de nombres a la llista es: {len(nombres)}\")\n",
    "print(f\"El nombre 3 apareix {nombre_tres} vegades a la llista.\")\n",
    "print(f\"El total de vegades que apareixen els nombres 3 i 4 a la llista es: {nombre_tres + nombre_quatre}\")\n",
    "print(f\"El nombre mes alt de la llista es: {max(nombres)}\")\n",
    "print(f\"Els tres nombres mes petits de la llista son:{sorted(nombres)[:3]}\")\n",
    "print(f\"El rang d'aquesta llista es: {max(nombres) - min(nombres)}\")"
   ]
  },
  {
   "cell_type": "markdown",
   "id": "d030e3b1",
   "metadata": {},
   "source": [
    "# EXERCICI 4\n",
    "Crea un diccionari de la següent forma i respon a les preguntes:\n",
    "\n",
    "*compra = { \"Pomes\" : {\"Qty\": 5, \"€\": 0.42}, \"Peres\" : {\"Qty\": 3, \"€\": 0.66} }*\n",
    "\n",
    "- Afegeix alguna fruita més\n",
    "- Quant han costat les peres en total?\n",
    "- Quantes fruites hem comprat en total?\n",
    "- Quina és la fruita més cara?"
   ]
  },
  {
   "cell_type": "code",
   "execution_count": 99,
   "id": "d1743405",
   "metadata": {},
   "outputs": [
    {
     "name": "stdout",
     "output_type": "stream",
     "text": [
      "{'Pomes': {'Qty': 5, '€': 0.42}, 'Peres': {'Qty': 3, '€': 0.66}, 'Taronges': {'Qty': 4, '€': 1.08}}\n",
      "El cost total de les Peres es de:  1.98 €\n",
      "La quantitat total de totes les fruites es: 12\n",
      "La fruita mes cara es: Taronges\n"
     ]
    }
   ],
   "source": [
    "compra = { \"Pomes\" : {\"Qty\": 5, \"€\": 0.42}, \"Peres\" : {\"Qty\": 3, \"€\": 0.66} }\n",
    "\n",
    "compra[\"Taronges\"] = {\"Qty\": 4,\"€\": 1.08,}\n",
    "\n",
    "quantitat = compra[\"Peres\"][\"Qty\"]\n",
    "preu = compra[\"Peres\"][\"€\"]\n",
    "\n",
    "quantitat_total = sum(fruita[\"Qty\"] for fruita in compra.values())\n",
    "\n",
    "fruita_mes_cara = max(compra, key=lambda x: compra[x][\"€\"])\n",
    "\n",
    "print(compra)\n",
    "print(f\"El cost total de les {'Peres'} es de: \", compra[\"Peres\"][\"Qty\"] * compra[\"Peres\"][\"€\"], \"€\")\n",
    "print(f\"La quantitat total de totes les fruites es: {quantitat_total}\")\n",
    "print(f\"La fruita mes cara es: {fruita_mes_cara}\")"
   ]
  }
 ],
 "metadata": {
  "kernelspec": {
   "display_name": "Python 3 (ipykernel)",
   "language": "python",
   "name": "python3"
  },
  "language_info": {
   "codemirror_mode": {
    "name": "ipython",
    "version": 3
   },
   "file_extension": ".py",
   "mimetype": "text/x-python",
   "name": "python",
   "nbconvert_exporter": "python",
   "pygments_lexer": "ipython3",
   "version": "3.11.3"
  }
 },
 "nbformat": 4,
 "nbformat_minor": 5
}
